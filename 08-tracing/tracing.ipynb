{
 "cells": [
  {
   "cell_type": "markdown",
   "id": "bd28c1a6",
   "metadata": {},
   "source": [
    "# Observability and Tracing\n",
    "\n"
   ]
  },
  {
   "cell_type": "code",
   "execution_count": null,
   "id": "71039423",
   "metadata": {},
   "outputs": [],
   "source": [
    "import asyncio\n",
    "\n",
    "from agent_framework import Executor, WorkflowBuilder, WorkflowContext, handler\n",
    "from agent_framework.observability import setup_observability"
   ]
  },
  {
   "cell_type": "code",
   "execution_count": null,
   "id": "4d51ebc5",
   "metadata": {},
   "outputs": [],
   "source": [
    "class StartExecutor(Executor):\n",
    "    @handler  # type: ignore[misc]\n",
    "    async def handle_input(self, message: str, ctx: WorkflowContext[str]) -> None:\n",
    "        # Transform and forward downstream. This produces executor.process and message.send spans.\n",
    "        await ctx.send_message(message.upper())\n",
    "\n",
    "\n",
    "class EndExecutor(Executor):\n",
    "    @handler  # type: ignore[misc]\n",
    "    async def handle_final(self, message: str, ctx: WorkflowContext) -> None:\n",
    "        # Sink executor. The workflow completes when idle with no pending work.\n",
    "        print(f\"Final result: {message}\")\n",
    "\n",
    "\n",
    "async def main() -> None:\n",
    "    # This will enable tracing and create the necessary tracing, logging and metrics providers\n",
    "    # based on environment variables.\n",
    "    setup_observability()\n",
    "\n",
    "    # Build a two node graph: StartExecutor -> EndExecutor. The builder emits a workflow.build span.\n",
    "    workflow = (\n",
    "        WorkflowBuilder()\n",
    "        .add_edge(StartExecutor(id=\"start\"), EndExecutor(id=\"end\"))\n",
    "        .set_start_executor(\"start\")  # set_start_executor accepts an executor id string or the instance\n",
    "        .build()\n",
    "    )  # workflow.build span emitted here\n",
    "\n",
    "    # Run once with a simple payload. You should see workflow.run plus executor and message spans.\n",
    "    await workflow.run(\"We are demonstrating Tracing to DVC\")  # workflow.run + executor.process and message.send spans"
   ]
  },
  {
   "cell_type": "code",
   "execution_count": null,
   "id": "27569c1e",
   "metadata": {},
   "outputs": [],
   "source": [
    "await main()"
   ]
  }
 ],
 "metadata": {
  "kernelspec": {
   "display_name": ".venv",
   "language": "python",
   "name": "python3"
  },
  "language_info": {
   "codemirror_mode": {
    "name": "ipython",
    "version": 3
   },
   "file_extension": ".py",
   "mimetype": "text/x-python",
   "name": "python",
   "nbconvert_exporter": "python",
   "pygments_lexer": "ipython3",
   "version": "3.13.9"
  }
 },
 "nbformat": 4,
 "nbformat_minor": 5
}
