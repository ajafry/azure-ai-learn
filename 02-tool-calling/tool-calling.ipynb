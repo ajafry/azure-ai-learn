{
 "cells": [
  {
   "cell_type": "markdown",
   "id": "ce36166a",
   "metadata": {},
   "source": [
    "# Tool Calling with Agents\n",
    "\n",
    "In this sample we will be creating agents and use a tool (function) to provide answers to questions.\n",
    "\n",
    "You should have the following two environment variables already created and initialized:\n",
    "\n",
    "* `AZURE_AI_PROJECT_ENDPOINT`: Your Azure AI project endpoint\n",
    "* `AZURE_AI_MODEL_DEPLOYMENT_NAME`: The name of your model deployment"
   ]
  },
  {
   "cell_type": "code",
   "execution_count": 1,
   "id": "760c4d33",
   "metadata": {},
   "outputs": [
    {
     "name": "stdout",
     "output_type": "stream",
     "text": [
      "Project endpoint: https://ai-service-wus3-shared.services.ai.azure.com/api/projects/agentic-project\n",
      "Deployment name: gpt-4o\n"
     ]
    }
   ],
   "source": [
    "import asyncio\n",
    "import os\n",
    "from random import randint\n",
    "from agent_framework import ChatAgent\n",
    "from agent_framework.azure import AzureAIAgentClient\n",
    "from azure.identity.aio import AzureCliCredential\n",
    "from dotenv import load_dotenv\n",
    "\n",
    "load_dotenv()\n",
    "\n",
    "project_endpoint = os.environ.get('AZURE_AI_PROJECT_ENDPOINT')\n",
    "model_name = os.environ.get('AZURE_AI_MODEL_DEPLOYMENT_NAME')\n",
    "\n",
    "print(f\"Project endpoint: {project_endpoint}\")\n",
    "print(f\"Deployment name: {model_name}\")"
   ]
  },
  {
   "cell_type": "code",
   "execution_count": 2,
   "id": "0cd573cf",
   "metadata": {},
   "outputs": [],
   "source": [
    "# 🎲 Tool Function: Random Destination Generator\n",
    "# This function will be available to the agent as a tool\n",
    "# The agent can call this function to get random vacation destinations\n",
    "def get_random_destination() -> str:\n",
    "    \"\"\"Get a random vacation destination.\n",
    "    \n",
    "    Returns:\n",
    "        str: A randomly selected destination from our predefined list\n",
    "    \"\"\"\n",
    "    # List of popular vacation destinations around the world\n",
    "    destinations = [\n",
    "        \"Rome\", \"Italy\",\n",
    "        \"Barcelona, Spain\",\n",
    "        \"Paris, France\", \n",
    "        \"Berlin, Germany\",\n",
    "        \"Tokyo, Japan\",\n",
    "        \"Sydney, Australia\",\n",
    "        \"New York, USA\",\n",
    "        \"Cairo, Egypt\",\n",
    "        \"Cape Town, South Africa\",\n",
    "        \"Rio de Janeiro, Brazil\",\n",
    "        \"Bali, Indonesia\"\n",
    "    ]\n",
    "    # Return a random destination from the list\n",
    "    return destinations[randint(0, len(destinations) - 1)]"
   ]
  },
  {
   "cell_type": "code",
   "execution_count": 3,
   "id": "b1251da9",
   "metadata": {},
   "outputs": [],
   "source": [
    "async def main():\n",
    "    async with (\n",
    "        AzureCliCredential() as credential,\n",
    "        ChatAgent(\n",
    "            chat_client=AzureAIAgentClient(async_credential=credential),\n",
    "            instructions=\"You are a helpful AI Agent that can help plan vacations for customers at random destinations.\",\n",
    "            tools=[get_random_destination]\n",
    "        ) as agent,\n",
    "    ):\n",
    "        result = await agent.run(\"Please plan a trip for me\")\n",
    "        print(result.text)"
   ]
  },
  {
   "cell_type": "code",
   "execution_count": 4,
   "id": "dfba3119",
   "metadata": {},
   "outputs": [
    {
     "name": "stdout",
     "output_type": "stream",
     "text": [
      "Your destination is Sydney, Australia! Here's a plan for your amazing trip:\n",
      "\n",
      "### **Day 1: Arrival and Relaxation**\n",
      "- Arrive at Sydney Kingsford Smith Airport.\n",
      "- Check into a hotel, such as the luxurious Shangri-La or a budget-friendly option like Sydney Harbour YHA.\n",
      "- Take a leisurely walk around Circular Quay and enjoy views of the Sydney Opera House and Sydney Harbour Bridge.\n",
      "- Dinner at The Rocks, a historic area with dining options like Phillip’s Foote.\n",
      "\n",
      "### **Day 2: Explore Iconic Landmarks**\n",
      "- Breakfast at a local café in Darling Harbour.\n",
      "- **Morning:** Take a guided tour of the Sydney Opera House.\n",
      "- **Afternoon:** Walk across the Sydney Harbour Bridge or opt for the Bridge Climb for panoramic views.\n",
      "- Grab a ferry to Manly Beach for some time by the sea.\n",
      "- Dinner by the waterfront at Doyle’s Seafood.\n",
      "\n",
      "### **Day 3: Beaches and Adventure**\n",
      "- Morning visit to Bondi Beach for swimming or surfing.\n",
      "- Explore the Bondi to Coogee Coastal Walk – breathtaking ocean views and parks along the way.\n",
      "- Afternoon visit to Taronga Zoo to see Australian wildlife like kangaroos and koalas.\n",
      "- Dinner near the zoo or head back to Darling Harbour for a vibrant dining scene.\n",
      "\n",
      "### **Day 4: Blue Mountains Day Trip**\n",
      "- Take a day trip to the Blue Mountains (2 hours drive/train).\n",
      "- Explore attractions such as the Three Sisters, Scenic World, and various bushwalking trails.\n",
      "- Enjoy lunch at a local café in Katoomba.\n",
      "- Return to Sydney for an evening at leisure.\n",
      "\n",
      "### **Day 5: Cultural and Historical Sydney**\n",
      "- Visit the Art Gallery of New South Wales or the Australian Museum.\n",
      "- Stroll through the Royal Botanic Garden for peace and tranquility.\n",
      "- Explore Darling Harbour’s attractions like SEA LIFE Sydney Aquarium or Madame Tussauds.\n",
      "- Dinner at Barangaroo, a newer and trendy dining precinct.\n",
      "\n",
      "### **Day 6: Shopping and Departure**\n",
      "- Spend your final morning shopping at the Queen Victoria Building or Paddy’s Markets for souvenirs.\n",
      "- Relax and enjoy a last Aussie coffee before heading to the airport.\n",
      "\n",
      "Let me know if you need more details or adjustments for your trip! Enjoy Sydney!\n"
     ]
    }
   ],
   "source": [
    "await main()"
   ]
  }
 ],
 "metadata": {
  "kernelspec": {
   "display_name": ".venv",
   "language": "python",
   "name": "python3"
  },
  "language_info": {
   "codemirror_mode": {
    "name": "ipython",
    "version": 3
   },
   "file_extension": ".py",
   "mimetype": "text/x-python",
   "name": "python",
   "nbconvert_exporter": "python",
   "pygments_lexer": "ipython3",
   "version": "3.13.7"
  }
 },
 "nbformat": 4,
 "nbformat_minor": 5
}
