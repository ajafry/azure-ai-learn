{
 "cells": [
  {
   "cell_type": "markdown",
   "id": "ce36166a",
   "metadata": {},
   "source": [
    "# Using an agent as a callable tool for another agent\n",
    "\n",
    "Using an agent as a function tool so that one agent can call another as a tool.\n",
    "\n",
    "You should have the following two environment variables already created and initialized:\n",
    "\n",
    "* `AZURE_AI_PROJECT_ENDPOINT`: Your Azure AI project endpoint\n",
    "* `AZURE_AI_MODEL_DEPLOYMENT_NAME`: The name of your model deployment"
   ]
  },
  {
   "cell_type": "code",
   "execution_count": null,
   "id": "760c4d33",
   "metadata": {},
   "outputs": [],
   "source": [
    "import asyncio\n",
    "import os\n",
    "from random import randint\n",
    "from agent_framework import ChatAgent, ai_function\n",
    "from agent_framework.azure import AzureAIAgentClient\n",
    "from azure.identity.aio import AzureCliCredential\n",
    "from dotenv import load_dotenv\n",
    "\n",
    "load_dotenv()\n",
    "\n",
    "project_endpoint = os.environ.get('AZURE_AI_PROJECT_ENDPOINT')\n",
    "model_name = os.environ.get('AZURE_AI_MODEL_DEPLOYMENT_NAME')\n",
    "\n",
    "print(f\"Project endpoint: {project_endpoint}\")\n",
    "print(f\"Deployment name: {model_name}\")"
   ]
  },
  {
   "cell_type": "code",
   "execution_count": null,
   "id": "0cd573cf",
   "metadata": {},
   "outputs": [],
   "source": [
    "from typing import Annotated\n",
    "from pydantic import Field\n",
    "\n",
    "@ai_function(name=\"weather_tool\", description=\"Get the weather for a given location.\")\n",
    "def get_weather(\n",
    "    location: Annotated[str, Field(description=\"The location to get the weather for.\")],\n",
    ") -> str:\n",
    "    \"\"\"Get the weather for a given location.\"\"\"\n",
    "    return f\"The weather in {location} is cloudy with a high of 72°F.\""
   ]
  },
  {
   "cell_type": "code",
   "execution_count": null,
   "id": "3235b603",
   "metadata": {},
   "outputs": [],
   "source": [
    "# Create the AI Agent Client\n",
    "client = AzureAIAgentClient(async_credential=AzureCliCredential())"
   ]
  },
  {
   "cell_type": "code",
   "execution_count": null,
   "id": "b5d90187",
   "metadata": {},
   "outputs": [],
   "source": [
    "# Create the Weather agent that can call the tool to get weather\n",
    "\n",
    "weather_agent = client.create_agent(\n",
    "    name=\"WeatherAgent\",\n",
    "    description=\"An agent that answers questions about the weather.\",\n",
    "    instructions=\"You answer questions about the weather.\",\n",
    "    tools=get_weather\n",
    ")"
   ]
  },
  {
   "cell_type": "code",
   "execution_count": null,
   "id": "a39dd0fe",
   "metadata": {},
   "outputs": [],
   "source": [
    "# Create the main agent that will use the weather agent as a function\n",
    "main_agent = client.create_agent(\n",
    "    instructions=\"You are a helpful assistant who responds in French.\",\n",
    "    name=\"FrenchHelpfulAssistant\",\n",
    "    tools=weather_agent.as_tool()\n",
    ")"
   ]
  },
  {
   "cell_type": "code",
   "execution_count": null,
   "id": "dfba3119",
   "metadata": {},
   "outputs": [],
   "source": [
    "result = await main_agent.run(\"What is the weather like in Amsterdam?\")\n",
    "print(result.text)"
   ]
  },
  {
   "cell_type": "code",
   "execution_count": null,
   "id": "00be5d5b",
   "metadata": {},
   "outputs": [],
   "source": [
    "# Cleanup\n",
    "await client.close()"
   ]
  }
 ],
 "metadata": {
  "kernelspec": {
   "display_name": ".venv",
   "language": "python",
   "name": "python3"
  },
  "language_info": {
   "codemirror_mode": {
    "name": "ipython",
    "version": 3
   },
   "file_extension": ".py",
   "mimetype": "text/x-python",
   "name": "python",
   "nbconvert_exporter": "python",
   "pygments_lexer": "ipython3",
   "version": "3.13.7"
  }
 },
 "nbformat": 4,
 "nbformat_minor": 5
}
