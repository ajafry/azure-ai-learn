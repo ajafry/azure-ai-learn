{
 "cells": [
  {
   "cell_type": "markdown",
   "id": "ccd57b15",
   "metadata": {},
   "source": [
    "# Multi-agentic orchestration using the Azure Open AI Chat Client"
   ]
  },
  {
   "cell_type": "code",
   "execution_count": null,
   "id": "f21a1b25",
   "metadata": {},
   "outputs": [],
   "source": [
    "from agent_framework.azure import AzureOpenAIChatClient\n",
    "from azure.identity import AzureCliCredential\n",
    "from agent_framework import WorkflowEvent, WorkflowBuilder, WorkflowOutputEvent"
   ]
  },
  {
   "cell_type": "code",
   "execution_count": null,
   "id": "43d3a9d8",
   "metadata": {},
   "outputs": [],
   "source": [
    "# 📦 Import Configuration and Environment Management\n",
    "import os                      # Environment variable access for secure configuration\n",
    "from dotenv import load_dotenv # Secure loading of API credentials and settings\n",
    "\n",
    "load_dotenv()                  # Load environment variables from .env file"
   ]
  },
  {
   "cell_type": "code",
   "execution_count": null,
   "id": "d438e08f",
   "metadata": {},
   "outputs": [],
   "source": [
    "# 🎩 Agent 1: Hotel Concierge - Quality Reviewer Role\n",
    "# This agent specializes in evaluating travel recommendations for authenticity\n",
    "# Acts as the second stage in our multi-agent workflow for quality assurance\n",
    "REVIEWER_NAME = \"Concierge\"\n",
    "REVIEWER_INSTRUCTIONS = \"\"\"\n",
    "    You are an experienced hotel concierge who has strong opinions about providing the most local and authentic experiences for travelers.\n",
    "    \n",
    "    Your role in this multi-agent workflow:\n",
    "    - Review travel recommendations from the Front Desk agent\n",
    "    - Assess whether suggestions provide authentic, non-touristy experiences\n",
    "    - Approve recommendations that meet high standards for local authenticity\n",
    "    - Provide constructive feedback for refinement without giving specific examples\n",
    "    \n",
    "    Always focus on the quality and authenticity of experiences rather than just popular tourist destinations.\n",
    "    \"\"\""
   ]
  },
  {
   "cell_type": "code",
   "execution_count": null,
   "id": "fc964bac",
   "metadata": {},
   "outputs": [],
   "source": [
    "FRONTDESK_NAME = \"FrontDesk\"\n",
    "FRONTDESK_INSTRUCTIONS = \"\"\"\n",
    "    You are a Front Desk Travel Agent with ten years of experience and are known for brevity as you deal with many customers.\n",
    "    The goal is to provide the best activities and locations for a traveler to visit.\n",
    "    Only provide a single recommendation per response.\n",
    "    You're laser focused on the goal at hand.\n",
    "    Don't waste time with chit chat.\n",
    "    Consider suggestions when refining an idea.\n",
    "    \"\"\""
   ]
  },
  {
   "cell_type": "code",
   "execution_count": null,
   "id": "c118387a",
   "metadata": {},
   "outputs": [],
   "source": [
    "class DatabaseEvent(WorkflowEvent): ..."
   ]
  },
  {
   "cell_type": "code",
   "execution_count": null,
   "id": "0fdbf099",
   "metadata": {},
   "outputs": [],
   "source": [
    "aoai_chat_client = AzureOpenAIChatClient(credential=AzureCliCredential())"
   ]
  },
  {
   "cell_type": "code",
   "execution_count": null,
   "id": "42d72e03",
   "metadata": {},
   "outputs": [],
   "source": [
    "reviewer_agent = aoai_chat_client.create_agent(\n",
    "    instructions=REVIEWER_INSTRUCTIONS,\n",
    "    name=REVIEWER_NAME\n",
    ")\n",
    "\n",
    "frontdesk_agent = aoai_chat_client.create_agent(\n",
    "    instructions=FRONTDESK_INSTRUCTIONS,\n",
    "    name=FRONTDESK_NAME\n",
    ")"
   ]
  },
  {
   "cell_type": "code",
   "execution_count": null,
   "id": "5088479b",
   "metadata": {},
   "outputs": [],
   "source": [
    "workflow = WorkflowBuilder().set_start_executor(frontdesk_agent).add_edge(frontdesk_agent, reviewer_agent).build()"
   ]
  },
  {
   "cell_type": "code",
   "execution_count": null,
   "id": "46d766cd",
   "metadata": {},
   "outputs": [],
   "source": [
    "from agent_framework import AgentRunEvent, WorkflowStatusEvent\n",
    "\n",
    "\n",
    "status = await workflow.run(\"I would like to go to Rome.\", include_status_events=True)\n",
    "for event in status:\n",
    "    if isinstance(event, WorkflowStatusEvent):\n",
    "        print(f\"WorkflowStatusEvent: {event.state}\")\n",
    "    if isinstance(event, AgentRunEvent):\n",
    "        print(f\"AgentRunEvent: {event.data}\")\n",
    "    else:\n",
    "        print(f\"Intermediate event: {event}\")"
   ]
  }
 ],
 "metadata": {
  "kernelspec": {
   "display_name": ".venv",
   "language": "python",
   "name": "python3"
  },
  "language_info": {
   "codemirror_mode": {
    "name": "ipython",
    "version": 3
   },
   "file_extension": ".py",
   "mimetype": "text/x-python",
   "name": "python",
   "nbconvert_exporter": "python",
   "pygments_lexer": "ipython3",
   "version": "3.13.8"
  }
 },
 "nbformat": 4,
 "nbformat_minor": 5
}
