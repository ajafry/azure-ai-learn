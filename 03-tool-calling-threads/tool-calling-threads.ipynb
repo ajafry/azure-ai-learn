{
 "cells": [
  {
   "cell_type": "markdown",
   "id": "ce36166a",
   "metadata": {},
   "source": [
    "# Tool Calling with Agents and using Threads\n",
    "\n",
    "In this sample we will be creating agents and use a tool (function) to provide answers to questions. We will also be creating a thread and then doing a follow-up with the agent to ask for more information.\n",
    "\n",
    "You should have the following two environment variables already created and initialized:\n",
    "\n",
    "* `AZURE_AI_PROJECT_ENDPOINT`: Your Azure AI project endpoint\n",
    "* `AZURE_AI_MODEL_DEPLOYMENT_NAME`: The name of your model deployment"
   ]
  },
  {
   "cell_type": "code",
   "execution_count": 1,
   "id": "760c4d33",
   "metadata": {},
   "outputs": [
    {
     "name": "stdout",
     "output_type": "stream",
     "text": [
      "Project endpoint: https://ai-service-wus3-shared.services.ai.azure.com/api/projects/agentic-project\n",
      "Deployment name: gpt-4o\n"
     ]
    }
   ],
   "source": [
    "import asyncio\n",
    "import os\n",
    "from random import randint\n",
    "from agent_framework import ChatAgent\n",
    "from agent_framework.azure import AzureAIAgentClient\n",
    "from azure.identity.aio import AzureCliCredential\n",
    "from dotenv import load_dotenv\n",
    "\n",
    "load_dotenv()\n",
    "\n",
    "project_endpoint = os.environ.get('AZURE_AI_PROJECT_ENDPOINT')\n",
    "model_name = os.environ.get('AZURE_AI_MODEL_DEPLOYMENT_NAME')\n",
    "\n",
    "print(f\"Project endpoint: {project_endpoint}\")\n",
    "print(f\"Deployment name: {model_name}\")"
   ]
  },
  {
   "cell_type": "code",
   "execution_count": 2,
   "id": "0cd573cf",
   "metadata": {},
   "outputs": [],
   "source": [
    "# 🎲 Tool Function: Random Destination Generator\n",
    "# This function will be available to the agent as a tool\n",
    "# The agent can call this function to get random vacation destinations\n",
    "def get_random_destination() -> str:\n",
    "    \"\"\"Get a random vacation destination.\n",
    "    \n",
    "    Returns:\n",
    "        str: A randomly selected destination from our predefined list\n",
    "    \"\"\"\n",
    "    # List of popular vacation destinations around the world\n",
    "    destinations = [\n",
    "        \"Rome\", \"Italy\",\n",
    "        \"Barcelona, Spain\",\n",
    "        \"Paris, France\", \n",
    "        \"Berlin, Germany\",\n",
    "        \"Tokyo, Japan\",\n",
    "        \"Sydney, Australia\",\n",
    "        \"New York, USA\",\n",
    "        \"Cairo, Egypt\",\n",
    "        \"Cape Town, South Africa\",\n",
    "        \"Rio de Janeiro, Brazil\",\n",
    "        \"Bali, Indonesia\"\n",
    "    ]\n",
    "    # Return a random destination from the list\n",
    "    return destinations[randint(0, len(destinations) - 1)]"
   ]
  },
  {
   "cell_type": "code",
   "execution_count": 3,
   "id": "b1251da9",
   "metadata": {},
   "outputs": [],
   "source": [
    "async def main():\n",
    "    credential = AzureCliCredential()\n",
    "    chat_client = AzureAIAgentClient(async_credential=credential)\n",
    "    agent = ChatAgent(chat_client, name=\"Vacation Planner\",\n",
    "                instructions=\"You are a helpful AI Agent that can help plan vacations for customers at random destinations.\",\n",
    "                tools=[get_random_destination]\n",
    "            )\n",
    "                                                             \n",
    "    thread = agent.get_new_thread()\n",
    "    result = await agent.run(\"Please plan a trip for me\", thread=thread)\n",
    "    print(result.text)\n",
    "\n",
    "    second_result = await agent.run(\"I do not like that destination. Please plan another vacation for me\", thread=thread)\n",
    "    print(second_result.text)\n",
    "\n",
    "    await chat_client.close()\n",
    "    "
   ]
  },
  {
   "cell_type": "code",
   "execution_count": 4,
   "id": "dfba3119",
   "metadata": {},
   "outputs": [
    {
     "name": "stderr",
     "output_type": "stream",
     "text": [
      "[2025-10-07 20:41:10 - c:\\Users\\aljafry\\repos\\AgentFramework\\azure-ai-learn\\.venv\\Lib\\site-packages\\agent_framework\\_clients.py:609 - WARNING] When conversation_id is set, store must be True for service-managed threads. Automatically setting store=True.\n",
      "[2025-10-07 20:41:19 - c:\\Users\\aljafry\\repos\\AgentFramework\\azure-ai-learn\\.venv\\Lib\\site-packages\\agent_framework\\_clients.py:609 - WARNING] When conversation_id is set, store must be True for service-managed threads. Automatically setting store=True.\n"
     ]
    },
    {
     "name": "stdout",
     "output_type": "stream",
     "text": [
      "Your randomly selected destination is Barcelona, Spain! Let me help you plan your trip:\n",
      "\n",
      "### Trip Itinerary for Barcelona, Spain\n",
      "\n",
      "#### **Day 1: Arrival and Exploration**\n",
      "- **Arrival**\n",
      "  - Fly into Barcelona-El Prat Airport. Arrange airport transfer to your accommodation.\n",
      "  - Check in to a centrally located hotel near Plaça de Catalunya or Las Ramblas.\n",
      "- **Evening**\n",
      "  - Stroll along Las Ramblas and explore Mercat de Sant Josep de la Boqueria (local market).\n",
      "  - Enjoy a traditional Spanish dinner with paella and sangria.\n",
      "\n",
      "#### **Day 2: Gaudi Extravaganza**\n",
      "- **Morning**\n",
      "  - Visit the iconic Sagrada Família designed by Antoni Gaudí. Pre-book tickets to skip the line.\n",
      "- **Afternoon**\n",
      "  - Explore Park Güell, a colorful, whimsical park full of Gaudí's architecture and stunning views of the city.\n",
      "- **Evening**\n",
      "  - Watch the Magic Fountain Show at Montjuïc. It’s a spectacular show combining lights, music, and water.\n",
      "\n",
      "#### **Day 3: Gothic Quarter and History**\n",
      "- **Morning**\n",
      "  - Walk through the narrow streets of the Gothic Quarter, visiting the Barcelona Cathedral.\n",
      "  - Stop by Plaça Reial, a beautiful square lined with cafes and palm trees.\n",
      "- **Afternoon**\n",
      "  - Tour the Picasso Museum to explore the artist’s work and connection to Barcelona.\n",
      "- **Evening**\n",
      "  - Try some authentic tapas at a local restaurant. Don’t forget to sample “patatas bravas” or Iberian ham.\n",
      "\n",
      "#### **Day 4: Barcelona’s Beaches**\n",
      "- **Morning**\n",
      "  - Treat yourself to relaxation at Barceloneta Beach or Nova Icaria Beach.\n",
      "  - Rent a paddleboard if you’re feeling adventurous!\n",
      "- **Afternoon**\n",
      "  - Have a seaside lunch of fresh seafood and enjoy a glass of chilled cava.\n",
      "- **Evening**\n",
      "  - Discover Barcelona’s nightlife in El Born or along the beach clubs at Port Olímpic.\n",
      "\n",
      "#### **Day 5: Day Trip**\n",
      "- Consider a day trip to either:\n",
      "  - Montserrat: A breathtaking mountain range with a famous monastery.\n",
      "  - Sitges: A delightful coastal town only 35 minutes from the city.\n",
      "\n",
      "#### **Day 6: Shopping and Departure**\n",
      "- **Morning**\n",
      "  - Do some shopping at Passeig de Gràcia or El Corte Inglés for souvenirs.\n",
      "  - Alternatively, visit the Raval neighborhood for unique and boutique shops.\n",
      "- **Afternoon**\n",
      "  - Head back to your hotel, pack, and take a transfer to the airport for your flight back.\n",
      "\n",
      "Would you like me to assist with hotel recommendations, activities, or transportation details?\n"
     ]
    },
    {
     "name": "stderr",
     "output_type": "stream",
     "text": [
      "[2025-10-07 20:41:22 - c:\\Users\\aljafry\\repos\\AgentFramework\\azure-ai-learn\\.venv\\Lib\\site-packages\\agent_framework\\_clients.py:609 - WARNING] When conversation_id is set, store must be True for service-managed threads. Automatically setting store=True.\n"
     ]
    },
    {
     "name": "stdout",
     "output_type": "stream",
     "text": [
      "Your new randomly selected destination is New York, USA! Here's a suggested plan for your trip:\n",
      "\n",
      "### Trip Itinerary for New York City\n",
      "\n",
      "#### **Day 1: Arrival and Evening in Times Square**\n",
      "- **Arrival**\n",
      "  - Fly into JFK, LaGuardia, or Newark Airport. Arrange airport transfer into Manhattan.\n",
      "  - Check into a hotel in Midtown Manhattan near Times Square or Central Park.\n",
      "- **Evening**\n",
      "  - Explore Times Square with its glowing billboards, shops, and street performances.\n",
      "  - Dine at a classic New York City restaurant or enjoy a slice of famous New York pizza.\n",
      "\n",
      "#### **Day 2: Iconic Attractions and Central Park**\n",
      "- **Morning**\n",
      "  - Start with a visit to the Statue of Liberty and Ellis Island. Book a ferry ahead of time.\n",
      "- **Afternoon**\n",
      "  - Walk through Wall Street and see the New York Stock Exchange and the Charging Bull.\n",
      "  - Visit the 9/11 Memorial and Museum for a powerful and emotional experience.\n",
      "- **Evening**\n",
      "  - Stroll through Central Park. Visit Bethesda Terrace or rent a rowboat at the Loeb Boathouse.\n",
      "\n",
      "#### **Day 3: Museums and Culture**\n",
      "- **Morning**\n",
      "  - Visit The Metropolitan Museum of Art (The Met) and explore its extensive art collections.\n",
      "- **Afternoon**\n",
      "  - Head to the American Museum of Natural History or the Museum of Modern Art (MoMA).\n",
      "- **Evening**\n",
      "  - See a Broadway show! Book tickets in advance for a popular production.\n",
      "\n",
      "#### **Day 4: Exploring Neighborhoods**\n",
      "- **Morning**\n",
      "  - Walk across the iconic Brooklyn Bridge and explore Brooklyn’s Dumbo area.\n",
      "  - Grab lunch at a local spot in Williamsburg and enjoy the artsy vibe.\n",
      "- **Afternoon**\n",
      "  - Return to Manhattan and stroll through SoHo for boutique shopping and trendy cafes.\n",
      "  - Visit Chinatown and Little Italy for unique cultural experiences and food.\n",
      "- **Evening**\n",
      "  - Watch the sunset from the Empire State Building or Top of the Rock at Rockefeller Center.\n",
      "\n",
      "#### **Day 5: Shopping and sightseeing**\n",
      "- **Morning**\n",
      "  - Shop on Fifth Avenue or explore the high-street shops at Hudson Yards.\n",
      "  - Alternatively, visit the High Line, an elevated park with beautiful views of the city.\n",
      "- **Afternoon**\n",
      "  - Relax and explore Chelsea Market for amazing food options and quaint shops.\n",
      "- **Evening**\n",
      "  - End your trip with drinks at a rooftop bar like 230 Fifth or Le Bain at The Standard Hotel.\n",
      "\n",
      "#### **Day 6: Departure**\n",
      "- Spend your final morning grabbing a bagel and coffee from a local shop.\n",
      "- Take a last city stroll or shop for souvenirs before heading to the airport.\n",
      "\n",
      "Would you like me to help with hotel suggestions, transportation, or activities in New York? Let me know!\n"
     ]
    }
   ],
   "source": [
    "await main()"
   ]
  }
 ],
 "metadata": {
  "kernelspec": {
   "display_name": ".venv",
   "language": "python",
   "name": "python3"
  },
  "language_info": {
   "codemirror_mode": {
    "name": "ipython",
    "version": 3
   },
   "file_extension": ".py",
   "mimetype": "text/x-python",
   "name": "python",
   "nbconvert_exporter": "python",
   "pygments_lexer": "ipython3",
   "version": "3.13.7"
  }
 },
 "nbformat": 4,
 "nbformat_minor": 5
}
