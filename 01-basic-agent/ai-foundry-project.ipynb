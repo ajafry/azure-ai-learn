{
 "cells": [
  {
   "cell_type": "markdown",
   "id": "293745c7",
   "metadata": {},
   "source": [
    "# Basic agent\n",
    "We will create a simple agent that authenticates using your Azure Credentials. \n",
    "\n",
    "You should have the following two environment variables already created and initialized:\n",
    "\n",
    "* `AZURE_AI_PROJECT_ENDPOINT`: Your Azure AI project endpoint\n",
    "* `AZURE_AI_MODEL_DEPLOYMENT_NAME`: The name of your model deployment"
   ]
  },
  {
   "cell_type": "code",
   "execution_count": null,
   "id": "f183ed56",
   "metadata": {},
   "outputs": [],
   "source": [
    "import asyncio\n",
    "import os\n",
    "from agent_framework import ChatAgent\n",
    "from agent_framework.azure import AzureAIAgentClient\n",
    "from azure.identity.aio import AzureCliCredential\n",
    "\n",
    "project_endpoint = os.environ.get('AZURE_AI_PROJECT_ENDPOINT')\n",
    "model_name = os.environ.get('AZURE_AI_MODEL_DEPLOYMENT_NAME')\n",
    "\n",
    "print(f\"Project endpoint: {project_endpoint}\")\n",
    "print(f\"Deployment name: {model_name}\")"
   ]
  },
  {
   "cell_type": "code",
   "execution_count": null,
   "id": "dfaf4ed7",
   "metadata": {},
   "outputs": [],
   "source": [
    "async def main():\n",
    "    async with (\n",
    "        AzureCliCredential() as credential,\n",
    "        ChatAgent(\n",
    "            chat_client=AzureAIAgentClient(async_credential=credential),\n",
    "            instructions=\"You are good at telling jokes.\",\n",
    "        ) as agent,\n",
    "    ):\n",
    "        result = await agent.run(\"Tell me a joke about a pirate.\")\n",
    "        print(result.text)"
   ]
  },
  {
   "cell_type": "code",
   "execution_count": null,
   "id": "9451f043",
   "metadata": {},
   "outputs": [],
   "source": [
    "# In Jupyter, we can await directly\n",
    "await main()"
   ]
  }
 ],
 "metadata": {
  "kernelspec": {
   "display_name": ".venv",
   "language": "python",
   "name": "python3"
  },
  "language_info": {
   "codemirror_mode": {
    "name": "ipython",
    "version": 3
   },
   "file_extension": ".py",
   "mimetype": "text/x-python",
   "name": "python",
   "nbconvert_exporter": "python",
   "pygments_lexer": "ipython3",
   "version": "3.13.8"
  }
 },
 "nbformat": 4,
 "nbformat_minor": 5
}
