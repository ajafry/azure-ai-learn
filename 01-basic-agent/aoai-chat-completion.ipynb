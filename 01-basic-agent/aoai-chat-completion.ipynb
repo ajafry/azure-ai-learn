{
 "cells": [
  {
   "cell_type": "markdown",
   "id": "c1e7b892",
   "metadata": {},
   "source": [
    "# Creating an Azure OpenAI ChatCompletion Agent\n",
    "\n",
    "The simplest way to create an agent is using the AzureOpenAIChatClient with environment variables:\n",
    "\n",
    "You should have the following two environment variables already created and initialized:\n",
    "\n",
    "* `AZURE_OPENAI_ENDPOINT`: The OpenAI Endpoint, it usually takes the form, `https://<your openai service endpoint>.openai.azure.com/`\n",
    "* `AZURE_OPENAI_CHAT_DEPLOYMENT_NAME`: The model deployment name\n"
   ]
  },
  {
   "cell_type": "code",
   "execution_count": null,
   "id": "bbb26c77",
   "metadata": {},
   "outputs": [],
   "source": [
    "import asyncio\n",
    "from agent_framework.azure import AzureOpenAIChatClient\n",
    "from azure.identity import AzureCliCredential"
   ]
  },
  {
   "cell_type": "code",
   "execution_count": null,
   "id": "fd7b10c3",
   "metadata": {},
   "outputs": [],
   "source": [
    "async def main():\n",
    "    agent = AzureOpenAIChatClient(credential=AzureCliCredential()).create_agent(\n",
    "        instructions=\"You are good at telling jokes.\",\n",
    "        name=\"Joker\"\n",
    "    )\n",
    "\n",
    "    result = await agent.run(\"Tell me a joke about a pirate.\")\n",
    "    print(result.text)"
   ]
  },
  {
   "cell_type": "code",
   "execution_count": null,
   "id": "943f6b36",
   "metadata": {},
   "outputs": [],
   "source": [
    "await main()"
   ]
  }
 ],
 "metadata": {
  "kernelspec": {
   "display_name": ".venv",
   "language": "python",
   "name": "python3"
  },
  "language_info": {
   "codemirror_mode": {
    "name": "ipython",
    "version": 3
   },
   "file_extension": ".py",
   "mimetype": "text/x-python",
   "name": "python",
   "nbconvert_exporter": "python",
   "pygments_lexer": "ipython3",
   "version": "3.13.9"
  }
 },
 "nbformat": 4,
 "nbformat_minor": 5
}
