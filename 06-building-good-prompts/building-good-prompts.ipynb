{
 "cells": [
  {
   "cell_type": "markdown",
   "id": "bec94007",
   "metadata": {},
   "source": [
    "# Building good prompts\n",
    "\n",
    "We will learn how to create effective system prompts for AI agents using Azure OpenAI. An AI assistant will help generate structured system messages for specific roles and responsibilities.\n",
    "\n",
    "You should have the following two environment variables already created and initialized:\n",
    "\n",
    "* `AZURE_AI_PROJECT_ENDPOINT`: Your Azure AI project endpoint\n",
    "* `AZURE_AI_MODEL_DEPLOYMENT_NAME`: The name of your model deployment"
   ]
  },
  {
   "cell_type": "code",
   "execution_count": null,
   "id": "025d6626",
   "metadata": {},
   "outputs": [],
   "source": [
    "import asyncio\n",
    "from typing import Annotated\n",
    "\n",
    "from agent_framework.azure import AzureAIAgentClient\n",
    "from azure.identity.aio import AzureCliCredential\n",
    "from agent_framework import ChatAgent\n",
    "\n",
    "import os\n",
    "from dotenv import load_dotenv"
   ]
  },
  {
   "cell_type": "code",
   "execution_count": null,
   "id": "58d55ffd",
   "metadata": {},
   "outputs": [],
   "source": [
    "load_dotenv()\n",
    "\n",
    "project_endpoint = os.environ.get('AZURE_AI_PROJECT_ENDPOINT')\n",
    "model_name = os.environ.get('AZURE_AI_MODEL_DEPLOYMENT_NAME')\n",
    "\n",
    "print(f\"Project endpoint: {project_endpoint}\")\n",
    "print(f\"Deployment name: {model_name}\")"
   ]
  },
  {
   "cell_type": "code",
   "execution_count": null,
   "id": "1d1adc44",
   "metadata": {},
   "outputs": [],
   "source": [
    "\n",
    "# role = \"Travel Agent\"\n",
    "# company = \"Contoso Travel\"\n",
    "# responsibility = \"booking flights\"\n",
    "\n",
    "# Example: Try different roles and responsibilities\n",
    "# Uncomment and modify these examples to experiment:\n",
    "\n",
    "# Example 1: Customer service agent\n",
    "# role = \"customer service representative\"\n",
    "# company = \"TechCorp Solutions\"\n",
    "# responsibility = \"resolving technical support issues\"\n",
    "\n",
    "# Example 2: Financial advisor\n",
    "role = \"financial advisor\"\n",
    "company = \"WealthWise Financial\"\n",
    "responsibility = \"providing investment recommendations\"\n",
    "\n",
    "# Example 3: Healthcare assistant\n",
    "# role = \"medical assistant\"\n",
    "# company = \"HealthFirst Clinic\"\n",
    "# responsibility = \"scheduling appointments and answering basic health questions\"\n",
    "\n",
    "instructions = '''\n",
    "You are an expert at creating AI agent assistants.\n",
    "You will be provided a company name, role, responsibilities and other information that you will use to provide a system prompt for.\n",
    "To create the system prompt, be descriptive as possible and provide a structure that a system using an LLM can better understand the role and responsibilities of the AI assistant.\n",
    "'''\n",
    "user_input_content = f\"You are {role} at {company} that is responsible for {responsibility}.\""
   ]
  },
  {
   "cell_type": "code",
   "execution_count": null,
   "id": "0a38f503",
   "metadata": {},
   "outputs": [],
   "source": [
    "async def main():\n",
    "    async with (\n",
    "        AzureCliCredential() as credential,\n",
    "        ChatAgent(\n",
    "            chat_client=AzureAIAgentClient(\n",
    "                async_credential=credential\n",
    "            ),\n",
    "            instructions=instructions\n",
    "        ) as agent,\n",
    "    ):\n",
    "        result = await agent.run(user_input_content)\n",
    "        print(result.text)\n",
    "\n"
   ]
  },
  {
   "cell_type": "code",
   "execution_count": null,
   "id": "a8edc9d6",
   "metadata": {},
   "outputs": [],
   "source": [
    "await main()"
   ]
  }
 ],
 "metadata": {
  "kernelspec": {
   "display_name": ".venv",
   "language": "python",
   "name": "python3"
  },
  "language_info": {
   "codemirror_mode": {
    "name": "ipython",
    "version": 3
   },
   "file_extension": ".py",
   "mimetype": "text/x-python",
   "name": "python",
   "nbconvert_exporter": "python",
   "pygments_lexer": "ipython3",
   "version": "3.13.8"
  }
 },
 "nbformat": 4,
 "nbformat_minor": 5
}
