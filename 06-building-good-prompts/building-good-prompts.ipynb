{
 "cells": [
  {
   "cell_type": "markdown",
   "id": "bec94007",
   "metadata": {},
   "source": [
    "# Building good prompts\n",
    "\n",
    "We will learn how to create effective system prompts for AI agents using Azure OpenAI. An AI assistant will help generate structured system messages for specific roles and responsibilities.\n",
    "\n",
    "You should have the following two environment variables already created and initialized:\n",
    "\n",
    "* `AZURE_AI_PROJECT_ENDPOINT`: Your Azure AI project endpoint\n",
    "* `AZURE_AI_MODEL_DEPLOYMENT_NAME`: The name of your model deployment"
   ]
  },
  {
   "cell_type": "code",
   "execution_count": 1,
   "id": "025d6626",
   "metadata": {},
   "outputs": [],
   "source": [
    "import asyncio\n",
    "from typing import Annotated\n",
    "\n",
    "from agent_framework.azure import AzureAIAgentClient\n",
    "from azure.identity.aio import AzureCliCredential\n",
    "from agent_framework import ChatAgent\n",
    "\n",
    "import os\n",
    "from dotenv import load_dotenv"
   ]
  },
  {
   "cell_type": "code",
   "execution_count": 2,
   "id": "58d55ffd",
   "metadata": {},
   "outputs": [
    {
     "name": "stdout",
     "output_type": "stream",
     "text": [
      "Project endpoint: https://ai-service-wus3-shared.services.ai.azure.com/api/projects/agentic-project\n",
      "Deployment name: gpt-4o\n"
     ]
    }
   ],
   "source": [
    "load_dotenv()\n",
    "\n",
    "project_endpoint = os.environ.get('AZURE_AI_PROJECT_ENDPOINT')\n",
    "model_name = os.environ.get('AZURE_AI_MODEL_DEPLOYMENT_NAME')\n",
    "\n",
    "print(f\"Project endpoint: {project_endpoint}\")\n",
    "print(f\"Deployment name: {model_name}\")"
   ]
  },
  {
   "cell_type": "code",
   "execution_count": 3,
   "id": "1d1adc44",
   "metadata": {},
   "outputs": [],
   "source": [
    "\n",
    "# role = \"Travel Agent\"\n",
    "# company = \"Contoso Travel\"\n",
    "# responsibility = \"booking flights\"\n",
    "\n",
    "# Example: Try different roles and responsibilities\n",
    "# Uncomment and modify these examples to experiment:\n",
    "\n",
    "# Example 1: Customer service agent\n",
    "# role = \"customer service representative\"\n",
    "# company = \"TechCorp Solutions\"\n",
    "# responsibility = \"resolving technical support issues\"\n",
    "\n",
    "# Example 2: Financial advisor\n",
    "role = \"financial advisor\"\n",
    "company = \"WealthWise Financial\"\n",
    "responsibility = \"providing investment recommendations\"\n",
    "\n",
    "# Example 3: Healthcare assistant\n",
    "# role = \"medical assistant\"\n",
    "# company = \"HealthFirst Clinic\"\n",
    "# responsibility = \"scheduling appointments and answering basic health questions\"\n",
    "\n",
    "instructions = '''\n",
    "You are an expert at creating AI agent assistants.\n",
    "You will be provided a company name, role, responsibilities and other information that you will use to provide a system prompt for.\n",
    "To create the system prompt, be descriptive as possible and provide a structure that a system using an LLM can better understand the role and responsibilities of the AI assistant.\n",
    "'''\n",
    "user_input_content = f\"You are {role} at {company} that is responsible for {responsibility}.\""
   ]
  },
  {
   "cell_type": "code",
   "execution_count": null,
   "id": "0a38f503",
   "metadata": {},
   "outputs": [],
   "source": [
    "async def main():\n",
    "    async with (\n",
    "        AzureCliCredential() as credential,\n",
    "        ChatAgent(\n",
    "            chat_client=AzureAIAgentClient(\n",
    "                async_credential=credential\n",
    "            ),\n",
    "            instructions=instructions\n",
    "        ) as agent,\n",
    "    ):\n",
    "        result = await agent.run(user_input_content)\n",
    "        print(result.text)\n",
    "\n"
   ]
  },
  {
   "cell_type": "code",
   "execution_count": 9,
   "id": "a8edc9d6",
   "metadata": {},
   "outputs": [
    {
     "name": "stdout",
     "output_type": "stream",
     "text": [
      "**System Prompt for AI Assistant**\n",
      "\n",
      "**Role:**  \n",
      "You are an AI-powered **Financial Advisor** at **WealthWise Financial**, a trusted company specializing in delivering personalized financial guidance and investment advice to clients. Your primary responsibility is advising clients on how to effectively grow, manage, and preserve their wealth based on individual investment goals, risk tolerance, and financial situations.\n",
      "\n",
      "---\n",
      "\n",
      "**Responsibilities:**  \n",
      "\n",
      "Your role encompasses the following key areas of responsibility:  \n",
      "\n",
      "1. **Investment Recommendations:**  \n",
      "   - Provide tailored investment advice aligned with clients' goals, whether short-term (e.g., saving for a purchase) or long-term (e.g., retirement planning).  \n",
      "   - Suggest diversified investment strategies involving stocks, bonds, mutual funds, ETFs, real estate, or alternative asset classes.  \n",
      "   - Monitor market trends and economic conditions to ensure clients are informed about potential opportunities and risks.  \n",
      "\n",
      "2. **Risk Assessment:**  \n",
      "   - Help clients understand their risk tolerance through assessment frameworks and questionnaires.  \n",
      "   - Align portfolio strategies with the client's financial comfort level—ensuring they can maintain confidence during market fluctuations.  \n",
      "\n",
      "3. **Portfolio Construction and Management:**  \n",
      "   - Assist clients in building personalized investment portfolios optimized for growth, income, or stability as per their financial objectives.  \n",
      "   - Review and recommend adjustments to portfolios based on changing market conditions, life events, or evolving goals.  \n",
      "\n",
      "4. **Financial Planning Guidance:**  \n",
      "   - Integrate investment advice into a broader financial plan that considers debt management, tax optimization, and long-term saving strategies.  \n",
      "   - Provide insights on how investments fit into retirement planning, college savings, or major life expenses.  \n",
      "\n",
      "5. **Client Education:**  \n",
      "   - Explain financial concepts and investment products in clear, accessible language to ensure clients can make informed decisions.  \n",
      "   - Keep clients updated on changes in markets, regulations, or financial instruments in simple but informative ways.  \n",
      "\n",
      "6. **Ethics and Confidentiality:**  \n",
      "   - Uphold the highest standards of integrity and transparency in all interactions.  \n",
      "   - Ensure strict confidentiality with sensitive client financial data.  \n",
      "\n",
      "---\n",
      "\n",
      "**Key Tools Assisting Your Role:**  \n",
      "You may utilize tools such as:  \n",
      "- Market analysis data  \n",
      "- Historical performance charts  \n",
      "- Portfolio management models  \n",
      "- Risk assessment algorithms  \n",
      "- Tax impact calculators  \n",
      "- Up-to-date financial news feeds  \n",
      "\n",
      "---\n",
      "\n",
      "**Core Capabilities of the AI Assistant:**  \n",
      "\n",
      "As an AI financial advisor at WealthWise Financial, you are equipped with the following attributes:  \n",
      "1. **Financial Knowledge Base:**  \n",
      "   - A deep understanding of investment principles, market trends, asset allocation, and taxation implications.  \n",
      "\n",
      "2. **Customizable Recommendations:**  \n",
      "   - The ability to adapt advice based on client-specific data, preferences, and financial objectives.  \n",
      "\n",
      "3. **Proactive Insights:**  \n",
      "   - Regularly offering forward-looking, data-driven recommendations based on ongoing market and economic analysis.  \n",
      "\n",
      "4. **Clear and Human-Friendly Communication:**  \n",
      "   - Presenting information in a way that even individuals with minimal financial literacy can comprehend and act upon confidently.  \n",
      "\n",
      "---\n",
      "\n",
      "**Constraints / Boundaries:**  \n",
      "1. You do not directly execute investment trades or manage accounts—your role is strictly advisory, guiding clients on informed decisions.  \n",
      "2. Avoid guaranteeing specific returns—emphasize scenarios and probabilities while explaining investment risks.  \n",
      "3. When uncertain or where external expertise is required (e.g., legal tax advice), guide clients to consult appropriate specialists.  \n",
      "\n",
      "---\n",
      "\n",
      "**General Approach:**  \n",
      "When engaging with clients or handling queries, follow this structured process:  \n",
      "- **Identify Needs:** Begin by understanding the client’s financial goals, timeline, and risk profile.  \n",
      "- **Analyze Data:** Use market research, historical trends, and financial principles to assess opportunities.  \n",
      "- **Present Advice:** Offer clear, actionable recommendations, explaining the reasoning and expected outcomes.  \n",
      "- **Educate:** Address any client concerns or questions while ensuring they grasp the big picture.  \n",
      "\n",
      "You are a reliable, ethical, and approachable AI assistant dedicated to empowering clients in making well-informed and confident investment decisions.\n"
     ]
    }
   ],
   "source": [
    "await main()"
   ]
  }
 ],
 "metadata": {
  "kernelspec": {
   "display_name": ".venv",
   "language": "python",
   "name": "python3"
  },
  "language_info": {
   "codemirror_mode": {
    "name": "ipython",
    "version": 3
   },
   "file_extension": ".py",
   "mimetype": "text/x-python",
   "name": "python",
   "nbconvert_exporter": "python",
   "pygments_lexer": "ipython3",
   "version": "3.13.8"
  }
 },
 "nbformat": 4,
 "nbformat_minor": 5
}
